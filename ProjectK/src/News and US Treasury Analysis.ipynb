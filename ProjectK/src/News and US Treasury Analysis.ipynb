{
 "metadata": {
  "name": "",
  "signature": "sha256:e86079b03639db1d4657b72133926f16930e2148bd8ec285af4fb894c40c1f6a"
 },
 "nbformat": 3,
 "nbformat_minor": 0,
 "worksheets": [
  {
   "cells": [
    {
     "cell_type": "code",
     "collapsed": false,
     "input": [
      "%matplotlib inline\n",
      "\n",
      "#import required packages\n",
      "import sys\n",
      "import datetime\n",
      "import csv\n",
      "import math\n",
      "import pandas as pd \n",
      "import numpy as np \n",
      "from scipy import stats \n",
      "import statsmodels.formula.api as sm\n",
      "import matplotlib.pyplot as plt\n",
      "from statsmodels.sandbox.regression.predstd import wls_prediction_std\n",
      "from mpltools import style\n",
      "from mpltools import layout\n",
      "from pandas.tools.plotting import autocorrelation_plot\n",
      "import json"
     ],
     "language": "python",
     "metadata": {},
     "outputs": [],
     "prompt_number": 29
    },
    {
     "cell_type": "code",
     "collapsed": false,
     "input": [
      "#import news from pig\n",
      "news = pd.read_csv('extracted_topics', sep='\t', names=['CountryID', 'SequenceID', 'Timestamp','Title','Story','Keywords','Country','Region'])\n",
      "news['Timestamp'] = pd.to_datetime(news['Timestamp'].str[:10], format = '%Y-%m-%d')\n",
      "news['Timestamp'] = news['Timestamp'].values.astype('M8[D]')\n",
      "\n",
      "#load news count\n",
      "news_count = pd.read_csv('keyword_list.csv', sep=',', names=['ID', 'Topic', 'Count'], header=True)\n",
      "\n",
      "#load treasury data (and percent changes)\n",
      "\n",
      "treasury = pd.read_csv('treasury.csv', names=['Date', 'PercentChange'],header=True, parse_dates=True)\n",
      "treasury['Date'] = pd.to_datetime(treasury['Date'].str[:10], format = '%Y-%m-%d')\n",
      "treasury['PercentChange'] = treasury['PercentChange'].convert_objects(convert_numeric=True)\n",
      "treasury = treasury.set_index(pd.DatetimeIndex(treasury['Date']))"
     ],
     "language": "python",
     "metadata": {},
     "outputs": [],
     "prompt_number": 30
    },
    {
     "cell_type": "code",
     "collapsed": false,
     "input": [
      "#for each topic, get the dates where it occurs and its country\n",
      "def getDateCount(topic) :\n",
      "    filteredNews = news[news['Keywords'].str.contains(topic)]\n",
      "    dates = filteredNews['Timestamp'].tolist()\n",
      "    datesCount = {}\n",
      "    for date in dates :\n",
      "        if date not in datesCount:\n",
      "            datesCount[date] = 1\n",
      "        else :\n",
      "            datesCount[date] += 1\n",
      "    return datesCount"
     ],
     "language": "python",
     "metadata": {},
     "outputs": [],
     "prompt_number": 31
    },
    {
     "cell_type": "code",
     "collapsed": false,
     "input": [
      "frequentTopics = news_count['Topic'].tolist()\n",
      "\n",
      "def getChangeAvg(dates):\n",
      "    valueList = []\n",
      "    for date in dates :\n",
      "        newDate = date.strftime('%Y-%m-%d')\n",
      "        indexList = treasury[treasury['Date']== newDate].index.tolist()\n",
      "        newTre = treasury.loc[indexList]\n",
      "        newlist = newTre['PercentChange'].tolist()\n",
      "        if (len(newlist)!=0):\n",
      "            valueList.append(newlist[0])\n",
      "    return np.nanmean(valueList)"
     ],
     "language": "python",
     "metadata": {},
     "outputs": [],
     "prompt_number": 32
    },
    {
     "cell_type": "code",
     "collapsed": false,
     "input": [
      "topic_avg = []\n",
      "\n",
      "for topic in frequentTopics[:5] :\n",
      "    try :\n",
      "        dates = getDateCount(topic)\n",
      "    except :\n",
      "        print \"error in parsing dates\"\n",
      "    topic_avg.append(getChangeAvg(dates))"
     ],
     "language": "python",
     "metadata": {},
     "outputs": [],
     "prompt_number": 33
    },
    {
     "cell_type": "code",
     "collapsed": false,
     "input": [
      "news_count_change = news_count[:5]\n",
      "news_count_change['change'] = topic_avg"
     ],
     "language": "python",
     "metadata": {},
     "outputs": [],
     "prompt_number": 34
    },
    {
     "cell_type": "code",
     "collapsed": false,
     "input": [],
     "language": "python",
     "metadata": {},
     "outputs": [],
     "prompt_number": 34
    },
    {
     "cell_type": "code",
     "collapsed": false,
     "input": [
      "news_count_change.to_csv(\"news_topic_count.csv\", index=False, sep=\",\")"
     ],
     "language": "python",
     "metadata": {},
     "outputs": [],
     "prompt_number": 35
    },
    {
     "cell_type": "code",
     "collapsed": false,
     "input": [],
     "language": "python",
     "metadata": {},
     "outputs": []
    }
   ],
   "metadata": {}
  }
 ]
}