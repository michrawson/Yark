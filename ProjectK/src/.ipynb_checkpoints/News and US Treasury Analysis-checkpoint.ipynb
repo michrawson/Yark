{
 "metadata": {
  "name": "",
  "signature": "sha256:c309a5acd96af8de058c841056a2cb247d61319c17235e5b303366471d07fd19"
 },
 "nbformat": 3,
 "nbformat_minor": 0,
 "worksheets": [
  {
   "cells": [
    {
     "cell_type": "code",
     "collapsed": false,
     "input": [
      "%matplotlib inline\n",
      "\n",
      "#import required packages\n",
      "import sys\n",
      "import datetime\n",
      "import csv\n",
      "import math\n",
      "import pandas as pd \n",
      "import numpy as np \n",
      "from scipy import stats \n",
      "import statsmodels.formula.api as sm\n",
      "import matplotlib.pyplot as plt\n",
      "from statsmodels.sandbox.regression.predstd import wls_prediction_std\n",
      "from mpltools import style\n",
      "from mpltools import layout\n",
      "from pandas.tools.plotting import autocorrelation_plot\n",
      "import json"
     ],
     "language": "python",
     "metadata": {},
     "outputs": [],
     "prompt_number": 21
    },
    {
     "cell_type": "code",
     "collapsed": false,
     "input": [
      "#import news from pig\n",
      "news = pd.read_csv('extracted_topics', sep='\t', names=['CountryID', 'SequenceID', 'Timestamp','Title','Story','Keywords','Country','Region'])\n",
      "news['Timestamp'] = pd.to_datetime(news['Timestamp'].str[:10], format = '%Y-%m-%d')\n",
      "news['Timestamp'] = news['Timestamp'].values.astype('M8[D]')\n",
      "\n",
      "#load news count\n",
      "news_count = pd.read_csv('keyword_list.csv', sep=',', names=['ID', 'Topic', 'Count'], header=True)\n",
      "\n",
      "#load treasury data (and percent changes)\n",
      "\n",
      "treasury = pd.read_csv('treasury.csv', names=['Date', 'PercentChange'],header=True, parse_dates=True)\n",
      "treasury['Date'] = pd.to_datetime(treasury['Date'].str[:10], format = '%Y-%m-%d')\n",
      "treasury['PercentChange'] = treasury['PercentChange'].convert_objects(convert_numeric=True)\n",
      "treasury = treasury.set_index(pd.DatetimeIndex(treasury['Date']))"
     ],
     "language": "python",
     "metadata": {},
     "outputs": [],
     "prompt_number": 22
    },
    {
     "cell_type": "code",
     "collapsed": false,
     "input": [
      "#for each topic, get the dates where it occurs and its country\n",
      "def getDateCount(topic) :\n",
      "    filteredNews = news[news['Keywords'].str.contains(topic)]\n",
      "    dates = filteredNews['Timestamp'].tolist()\n",
      "    datesCount = {}\n",
      "    for date in dates :\n",
      "        if date not in datesCount:\n",
      "            datesCount[date] = 1\n",
      "        else :\n",
      "            datesCount[date] += 1\n",
      "    return datesCount"
     ],
     "language": "python",
     "metadata": {},
     "outputs": [],
     "prompt_number": 23
    },
    {
     "cell_type": "code",
     "collapsed": false,
     "input": [
      "frequentTopics = news_count['Topic'].tolist()\n",
      "\n",
      "def getChangeAvg(dates):\n",
      "    valueList = []\n",
      "    for date in dates :\n",
      "        newDate = date.strftime('%Y-%m-%d')\n",
      "        indexList = treasury[treasury['Date']== newDate].index.tolist()\n",
      "        newTre = treasury.loc[indexList]\n",
      "        newlist = newTre['PercentChange'].tolist()\n",
      "        if (len(newlist)!=0):\n",
      "            valueList.append(newlist[0])\n",
      "    return np.nanmean(valueList)"
     ],
     "language": "python",
     "metadata": {},
     "outputs": [],
     "prompt_number": 24
    },
    {
     "cell_type": "code",
     "collapsed": false,
     "input": [
      "topic_avg = []\n",
      "\n",
      "for topic in frequentTopics[:5] :\n",
      "    try :\n",
      "        dates = getDateCount(topic)\n",
      "    except :\n",
      "        print \"error in parsing dates\"\n",
      "    topic_avg.append(getChangeAvg(dates))"
     ],
     "language": "python",
     "metadata": {},
     "outputs": [],
     "prompt_number": 25
    },
    {
     "cell_type": "code",
     "collapsed": false,
     "input": [
      "news_count_change = news_count[:5]\n",
      "news_count_change['change'] = topic_avg"
     ],
     "language": "python",
     "metadata": {},
     "outputs": [],
     "prompt_number": 26
    },
    {
     "cell_type": "code",
     "collapsed": false,
     "input": [
      "news_count_change.head()"
     ],
     "language": "python",
     "metadata": {},
     "outputs": [
      {
       "html": [
        "<div style=\"max-height:1000px;max-width:1500px;overflow:auto;\">\n",
        "<table border=\"1\" class=\"dataframe\">\n",
        "  <thead>\n",
        "    <tr style=\"text-align: right;\">\n",
        "      <th></th>\n",
        "      <th>ID</th>\n",
        "      <th>Topic</th>\n",
        "      <th>Count</th>\n",
        "      <th>change</th>\n",
        "    </tr>\n",
        "  </thead>\n",
        "  <tbody>\n",
        "    <tr>\n",
        "      <th>0</th>\n",
        "      <td> 176965</td>\n",
        "      <td>                   danilo orellana</td>\n",
        "      <td> 1</td>\n",
        "      <td> 0.52083</td>\n",
        "    </tr>\n",
        "    <tr>\n",
        "      <th>1</th>\n",
        "      <td> 176967</td>\n",
        "      <td> international diplomatic pressure</td>\n",
        "      <td> 1</td>\n",
        "      <td> 0.52083</td>\n",
        "    </tr>\n",
        "    <tr>\n",
        "      <th>2</th>\n",
        "      <td> 176968</td>\n",
        "      <td>             large political rally</td>\n",
        "      <td> 1</td>\n",
        "      <td> 0.52083</td>\n",
        "    </tr>\n",
        "    <tr>\n",
        "      <th>3</th>\n",
        "      <td> 176969</td>\n",
        "      <td>            visiting eu delegation</td>\n",
        "      <td> 1</td>\n",
        "      <td> 0.52083</td>\n",
        "    </tr>\n",
        "    <tr>\n",
        "      <th>4</th>\n",
        "      <td> 176970</td>\n",
        "      <td>             political retribution</td>\n",
        "      <td> 1</td>\n",
        "      <td> 0.52083</td>\n",
        "    </tr>\n",
        "  </tbody>\n",
        "</table>\n",
        "</div>"
       ],
       "metadata": {},
       "output_type": "pyout",
       "prompt_number": 27,
       "text": [
        "       ID                              Topic  Count   change\n",
        "0  176965                    danilo orellana      1  0.52083\n",
        "1  176967  international diplomatic pressure      1  0.52083\n",
        "2  176968              large political rally      1  0.52083\n",
        "3  176969             visiting eu delegation      1  0.52083\n",
        "4  176970              political retribution      1  0.52083"
       ]
      }
     ],
     "prompt_number": 27
    },
    {
     "cell_type": "code",
     "collapsed": false,
     "input": [
      "news_count_change.to_csv(\"r_input_refined\", index=False, sep=\",\")"
     ],
     "language": "python",
     "metadata": {},
     "outputs": []
    }
   ],
   "metadata": {}
  }
 ]
}